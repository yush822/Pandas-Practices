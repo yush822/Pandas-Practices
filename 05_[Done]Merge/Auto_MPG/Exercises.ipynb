{
 "cells": [
  {
   "cell_type": "markdown",
   "metadata": {},
   "source": [
    "# MPG Cars"
   ]
  },
  {
   "cell_type": "markdown",
   "metadata": {},
   "source": [
    "### Introduction:\n",
    "\n",
    "The following exercise utilizes data from [UC Irvine Machine Learning Repository](https://archive.ics.uci.edu/ml/datasets/Auto+MPG)\n",
    "\n",
    "### Step 1. Import the necessary libraries"
   ]
  },
  {
   "cell_type": "code",
   "execution_count": 24,
   "metadata": {},
   "outputs": [],
   "source": [
    "import pandas as pd\n",
    "import numpy as np"
   ]
  },
  {
   "cell_type": "markdown",
   "metadata": {},
   "source": [
    "### Step 2. Import the first dataset [cars1](https://raw.githubusercontent.com/guipsamora/pandas_exercises/master/05_Merge/Auto_MPG/cars1.csv) and [cars2](https://raw.githubusercontent.com/guipsamora/pandas_exercises/master/05_Merge/Auto_MPG/cars2.csv).  "
   ]
  },
  {
   "cell_type": "markdown",
   "metadata": {},
   "source": [
    "   ### Step 3. Assign each to a variable called cars1 and cars2"
   ]
  },
  {
   "cell_type": "code",
   "execution_count": 3,
   "metadata": {},
   "outputs": [],
   "source": [
    "cars1 = pd.read_csv('https://raw.githubusercontent.com/guipsamora/pandas_exercises/master/05_Merge/Auto_MPG/cars1.csv',sep=',')\n",
    "cars2 = pd.read_csv('https://raw.githubusercontent.com/guipsamora/pandas_exercises/master/05_Merge/Auto_MPG/cars2.csv',sep=',')\n"
   ]
  },
  {
   "cell_type": "markdown",
   "metadata": {},
   "source": [
    "### Step 4. Ops it seems our first dataset has some unnamed blank columns, fix cars1"
   ]
  },
  {
   "cell_type": "code",
   "execution_count": 12,
   "metadata": {},
   "outputs": [],
   "source": [
    "cars1 = cars1.iloc[:,0:9]"
   ]
  },
  {
   "cell_type": "markdown",
   "metadata": {},
   "source": [
    "### Step 5. What is the number of observations in each dataset?"
   ]
  },
  {
   "cell_type": "code",
   "execution_count": 13,
   "metadata": {},
   "outputs": [
    {
     "name": "stdout",
     "output_type": "stream",
     "text": [
      "198\n",
      "200\n"
     ]
    }
   ],
   "source": [
    "print(cars1.shape[0])\n",
    "print(cars2.shape[0])\n"
   ]
  },
  {
   "cell_type": "markdown",
   "metadata": {},
   "source": [
    "### Step 6. Join cars1 and cars2 into a single DataFrame called cars"
   ]
  },
  {
   "cell_type": "code",
   "execution_count": 21,
   "metadata": {},
   "outputs": [
    {
     "data": {
      "text/plain": [
       "398"
      ]
     },
     "execution_count": 21,
     "metadata": {},
     "output_type": "execute_result"
    }
   ],
   "source": [
    "cars = pd.DataFrame()\n",
    "cars=cars.append(cars1)\n",
    "cars=cars.append(cars2)\n",
    "cars.shape[0]\n",
    "\n",
    "\n",
    "# cars = cars1.append(cars2)\n",
    "# cars"
   ]
  },
  {
   "cell_type": "markdown",
   "metadata": {},
   "source": [
    "### Step 7. Ops there is a column missing, called owners. Create a random number Series from 15,000 to 73,000."
   ]
  },
  {
   "cell_type": "code",
   "execution_count": 25,
   "metadata": {},
   "outputs": [
    {
     "data": {
      "text/plain": [
       "array([47336, 52547, 55029, 64013, 27113, 18862, 21883, 60303, 49600,\n",
       "       67597, 19808, 32270, 60579, 63848, 30645, 42413, 37517, 26401,\n",
       "       22894, 52207, 64839, 68020, 19645, 35618, 45835, 46685, 31354,\n",
       "       20718, 21888, 29577, 60860, 51576, 22561, 57693, 42683, 20407,\n",
       "       20786, 58928, 24451, 21566, 26174, 53523, 43688, 27148, 41912,\n",
       "       31410, 67026, 33654, 42591, 48114, 51895, 46839, 40191, 58930,\n",
       "       24584, 22859, 20560, 37988, 51005, 21374, 46444, 49715, 59472,\n",
       "       44647, 71802, 46524, 71606, 61335, 24089, 71927, 40465, 16073,\n",
       "       45773, 38484, 67359, 15022, 66370, 24979, 16653, 50520, 32889,\n",
       "       45525, 72668, 32773, 25613, 38692, 32317, 57746, 30889, 25184,\n",
       "       41231, 35782, 61417, 45737, 29270, 43157, 16549, 25193, 35659,\n",
       "       41118, 35555, 38907, 36391, 52427, 29163, 44382, 72097, 65938,\n",
       "       42052, 46454, 45991, 57183, 54849, 67711, 60560, 64980, 54118,\n",
       "       67482, 39722, 57134, 48694, 38926, 28961, 55055, 62578, 30458,\n",
       "       56326, 70487, 49160, 17375, 18653, 21700, 16273, 28034, 55713,\n",
       "       30777, 16583, 48963, 51100, 23140, 59257, 53910, 48798, 62716,\n",
       "       47065, 18355, 58922, 63426, 54391, 58522, 46497, 61423, 58920,\n",
       "       24809, 40548, 62857, 53526, 42010, 52575, 72653, 52126, 37775,\n",
       "       57442, 62687, 18917, 52673, 57318, 71356, 53028, 68554, 31258,\n",
       "       26596, 21035, 41567, 64301, 34956, 51015, 47248, 24606, 29770,\n",
       "       21827, 53095, 39279, 40015, 33440, 55177, 25711, 24254, 56209,\n",
       "       36107, 62006, 54109, 34138, 32306, 43865, 27085, 18991, 57994,\n",
       "       71213, 29133, 69927, 46762, 60713, 38514, 39352, 69443, 48607,\n",
       "       57021, 68823, 17617, 58589, 58333, 66236, 55734, 30876, 70678,\n",
       "       31195, 33983, 64108, 65832, 51026, 19279, 43714, 70729, 18497,\n",
       "       28105, 42044, 67592, 36160, 61193, 36499, 28003, 55895, 34889,\n",
       "       15391, 40907, 41869, 57282, 47102, 30207, 48109, 42790, 17527,\n",
       "       28562, 67596, 25435, 45049, 70636, 61034, 31062, 42240, 39221,\n",
       "       36451, 29705, 31421, 70336, 68504, 64758, 24876, 38410, 65207,\n",
       "       64050, 27112, 38408, 20089, 62043, 30190, 15491, 25074, 37908,\n",
       "       53630, 72546, 44982, 72215, 33123, 65595, 17607, 19704, 45474,\n",
       "       22979, 71677, 72939, 21422, 34098, 69046, 30167, 63899, 62850,\n",
       "       70376, 40088, 43066, 44706, 41617, 15355, 35559, 31662, 27297,\n",
       "       66498, 40760, 36061, 22086, 25518, 69661, 60788, 18418, 18651,\n",
       "       23913, 33391, 35499, 30915, 23420, 62057, 21841, 38882, 66090,\n",
       "       31715, 48014, 49448, 33197, 68916, 43259, 30147, 56781, 64910,\n",
       "       57022, 60513, 35538, 33054, 18594, 54445, 32271, 63914, 65995,\n",
       "       68754, 33386, 43608, 38318, 69196, 19582, 48566, 18003, 23870,\n",
       "       36774, 64940, 25507, 65844, 28241, 33319, 41171, 59923, 36936,\n",
       "       56277, 69600, 23906, 24967, 15738, 25330, 69110, 40359, 30674,\n",
       "       39917, 72020, 39960, 30618, 52571, 49721, 29664, 64411, 36133,\n",
       "       23908, 18381, 61033, 21516, 31330, 51713, 35560, 33314, 25108,\n",
       "       16942, 19307, 65204, 19833, 25344, 21546, 30653, 60243, 53960,\n",
       "       45314, 69900, 58103, 51278, 26496, 50033, 61358, 30009, 32560,\n",
       "       61918, 42243])"
      ]
     },
     "execution_count": 25,
     "metadata": {},
     "output_type": "execute_result"
    }
   ],
   "source": [
    "nr_owners = np.random.randint(15000, high=73001, size=398, dtype='l')\n",
    "nr_owners "
   ]
  },
  {
   "cell_type": "markdown",
   "metadata": {},
   "source": [
    "### Step 8. Add the column owners to cars"
   ]
  },
  {
   "cell_type": "code",
   "execution_count": 27,
   "metadata": {},
   "outputs": [
    {
     "data": {
      "text/html": [
       "<div>\n",
       "<style scoped>\n",
       "    .dataframe tbody tr th:only-of-type {\n",
       "        vertical-align: middle;\n",
       "    }\n",
       "\n",
       "    .dataframe tbody tr th {\n",
       "        vertical-align: top;\n",
       "    }\n",
       "\n",
       "    .dataframe thead th {\n",
       "        text-align: right;\n",
       "    }\n",
       "</style>\n",
       "<table border=\"1\" class=\"dataframe\">\n",
       "  <thead>\n",
       "    <tr style=\"text-align: right;\">\n",
       "      <th></th>\n",
       "      <th>mpg</th>\n",
       "      <th>cylinders</th>\n",
       "      <th>displacement</th>\n",
       "      <th>horsepower</th>\n",
       "      <th>weight</th>\n",
       "      <th>acceleration</th>\n",
       "      <th>model</th>\n",
       "      <th>origin</th>\n",
       "      <th>car</th>\n",
       "      <th>owners</th>\n",
       "    </tr>\n",
       "  </thead>\n",
       "  <tbody>\n",
       "    <tr>\n",
       "      <th>0</th>\n",
       "      <td>18.0</td>\n",
       "      <td>8</td>\n",
       "      <td>307</td>\n",
       "      <td>130</td>\n",
       "      <td>3504</td>\n",
       "      <td>12.0</td>\n",
       "      <td>70</td>\n",
       "      <td>1</td>\n",
       "      <td>chevrolet chevelle malibu</td>\n",
       "      <td>47336</td>\n",
       "    </tr>\n",
       "    <tr>\n",
       "      <th>1</th>\n",
       "      <td>15.0</td>\n",
       "      <td>8</td>\n",
       "      <td>350</td>\n",
       "      <td>165</td>\n",
       "      <td>3693</td>\n",
       "      <td>11.5</td>\n",
       "      <td>70</td>\n",
       "      <td>1</td>\n",
       "      <td>buick skylark 320</td>\n",
       "      <td>52547</td>\n",
       "    </tr>\n",
       "    <tr>\n",
       "      <th>2</th>\n",
       "      <td>18.0</td>\n",
       "      <td>8</td>\n",
       "      <td>318</td>\n",
       "      <td>150</td>\n",
       "      <td>3436</td>\n",
       "      <td>11.0</td>\n",
       "      <td>70</td>\n",
       "      <td>1</td>\n",
       "      <td>plymouth satellite</td>\n",
       "      <td>55029</td>\n",
       "    </tr>\n",
       "    <tr>\n",
       "      <th>3</th>\n",
       "      <td>16.0</td>\n",
       "      <td>8</td>\n",
       "      <td>304</td>\n",
       "      <td>150</td>\n",
       "      <td>3433</td>\n",
       "      <td>12.0</td>\n",
       "      <td>70</td>\n",
       "      <td>1</td>\n",
       "      <td>amc rebel sst</td>\n",
       "      <td>64013</td>\n",
       "    </tr>\n",
       "    <tr>\n",
       "      <th>4</th>\n",
       "      <td>17.0</td>\n",
       "      <td>8</td>\n",
       "      <td>302</td>\n",
       "      <td>140</td>\n",
       "      <td>3449</td>\n",
       "      <td>10.5</td>\n",
       "      <td>70</td>\n",
       "      <td>1</td>\n",
       "      <td>ford torino</td>\n",
       "      <td>27113</td>\n",
       "    </tr>\n",
       "  </tbody>\n",
       "</table>\n",
       "</div>"
      ],
      "text/plain": [
       "    mpg  cylinders  displacement horsepower  weight  acceleration  model  \\\n",
       "0  18.0          8           307        130    3504          12.0     70   \n",
       "1  15.0          8           350        165    3693          11.5     70   \n",
       "2  18.0          8           318        150    3436          11.0     70   \n",
       "3  16.0          8           304        150    3433          12.0     70   \n",
       "4  17.0          8           302        140    3449          10.5     70   \n",
       "\n",
       "   origin                        car  owners  \n",
       "0       1  chevrolet chevelle malibu   47336  \n",
       "1       1          buick skylark 320   52547  \n",
       "2       1         plymouth satellite   55029  \n",
       "3       1              amc rebel sst   64013  \n",
       "4       1                ford torino   27113  "
      ]
     },
     "execution_count": 27,
     "metadata": {},
     "output_type": "execute_result"
    }
   ],
   "source": [
    "cars['owners'] = nr_owners\n",
    "cars.head()"
   ]
  }
 ],
 "metadata": {
  "anaconda-cloud": {},
  "kernelspec": {
   "display_name": "Python 3",
   "language": "python",
   "name": "python3"
  },
  "language_info": {
   "codemirror_mode": {
    "name": "ipython",
    "version": 3
   },
   "file_extension": ".py",
   "mimetype": "text/x-python",
   "name": "python",
   "nbconvert_exporter": "python",
   "pygments_lexer": "ipython3",
   "version": "3.6.6"
  }
 },
 "nbformat": 4,
 "nbformat_minor": 1
}
